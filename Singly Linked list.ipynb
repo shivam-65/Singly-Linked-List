{
 "cells": [
  {
   "cell_type": "code",
   "execution_count": 1,
   "metadata": {},
   "outputs": [],
   "source": [
    "class node:\n",
    "    def __init__(self,data):\n",
    "        self.data=data\n",
    "        self.next=None"
   ]
  },
  {
   "cell_type": "code",
   "execution_count": 29,
   "metadata": {},
   "outputs": [],
   "source": [
    "class sll:\n",
    "    def __init__(self):\n",
    "        self.head=None\n",
    "    \n",
    "    def traversal(self):\n",
    "        print()\n",
    "        if self.head is None:\n",
    "            print(\"singly linked list is empty\")\n",
    "        else:\n",
    "            a=self.head\n",
    "            while(a):\n",
    "                print(a.data, end=\" \")\n",
    "                a=a.next  \n",
    "    \n",
    "    def insert_at_end(self,data):\n",
    "        print()\n",
    "        nn=node(data)\n",
    "        if self.head is None:\n",
    "            self.head=nn\n",
    "        else:\n",
    "            a=self.head\n",
    "            while a.next is not None:\n",
    "                a=a.next\n",
    "            a.next=nn\n",
    "            \n",
    "    def insert_at_begin(self,data):\n",
    "        print()\n",
    "        nn=node(data)\n",
    "        if self.head is None:\n",
    "            self.head=nn\n",
    "        else:\n",
    "            nn.next=self.head\n",
    "            self.head=nn\n",
    "            \n",
    "    def insert_at_pos(self,pos,data):\n",
    "        print()\n",
    "        nn=node(data)\n",
    "        a=self.head\n",
    "        for i in range(1,pos-1):\n",
    "            a=a.next\n",
    "        nn.next=a.next\n",
    "        a.next=nn\n",
    "        \n",
    "    def delet_end(self):\n",
    "        print()\n",
    "        if self.head is None:\n",
    "            print(\"linked list is empty\")\n",
    "        else:\n",
    "            pre=self.head\n",
    "            a=self.head.next\n",
    "            while(a.next is not None):\n",
    "                pre=pre.next\n",
    "                a=a.next\n",
    "            pre.next=None\n",
    "            \n",
    "    def delet_begin(self):\n",
    "        print()\n",
    "        if self.head is None:\n",
    "            print(\"linked list is empty\")\n",
    "        else:\n",
    "            a=self.head\n",
    "            self.head=self.head.next\n",
    "            a.next=None\n",
    "    def delet_pos(self,pos):\n",
    "        print()\n",
    "        if self.head is None:\n",
    "            print(\"linked list is empty\")\n",
    "        else:\n",
    "            pre=self.head\n",
    "            a=self.head.next\n",
    "            for i in range(1,pos):\n",
    "                pre.next=a.next\n",
    "                a.next=None\n",
    "                \n",
    "        \n",
    "                "
   ]
  },
  {
   "cell_type": "code",
   "execution_count": 32,
   "metadata": {},
   "outputs": [
    {
     "name": "stdout",
     "output_type": "stream",
     "text": [
      "\n",
      "10 20 30 "
     ]
    }
   ],
   "source": [
    "n1=node(10)\n",
    "sl=sll()\n",
    "sl.head=n1\n",
    "n2=node(20)\n",
    "n1.next=n2\n",
    "n3=node(30)\n",
    "n2.next=n3\n",
    "sl.traversal()\n"
   ]
  },
  {
   "cell_type": "code",
   "execution_count": 33,
   "metadata": {},
   "outputs": [
    {
     "name": "stdout",
     "output_type": "stream",
     "text": [
      "\n",
      "\n",
      "10 20 30 40 \n",
      "\n",
      "10 20 30 40 50 "
     ]
    }
   ],
   "source": [
    "sl.insert_at_end(40)\n",
    "sl.traversal()\n",
    "sl.insert_at_end(50)\n",
    "sl.traversal()\n"
   ]
  },
  {
   "cell_type": "code",
   "execution_count": 34,
   "metadata": {},
   "outputs": [
    {
     "name": "stdout",
     "output_type": "stream",
     "text": [
      "\n",
      "\n",
      "70 10 20 30 40 50 "
     ]
    }
   ],
   "source": [
    "sl.insert_at_begin(70)\n",
    "sl.traversal()\n"
   ]
  },
  {
   "cell_type": "code",
   "execution_count": 35,
   "metadata": {},
   "outputs": [
    {
     "name": "stdout",
     "output_type": "stream",
     "text": [
      "\n",
      "\n",
      "70 80 10 20 30 40 50 "
     ]
    }
   ],
   "source": [
    "sl.insert_at_pos(2,80)\n",
    "sl.traversal()\n"
   ]
  },
  {
   "cell_type": "code",
   "execution_count": 36,
   "metadata": {},
   "outputs": [
    {
     "name": "stdout",
     "output_type": "stream",
     "text": [
      "\n",
      "\n",
      "70 80 10 20 30 40 "
     ]
    }
   ],
   "source": [
    "sl.delet_end()\n",
    "sl.traversal()\n"
   ]
  },
  {
   "cell_type": "code",
   "execution_count": 37,
   "metadata": {},
   "outputs": [
    {
     "name": "stdout",
     "output_type": "stream",
     "text": [
      "\n",
      "\n",
      "80 10 20 30 40 "
     ]
    }
   ],
   "source": [
    "sl.delet_begin()\n",
    "sl.traversal()\n"
   ]
  },
  {
   "cell_type": "code",
   "execution_count": null,
   "metadata": {},
   "outputs": [],
   "source": [
    "sl.delet_pos(2)\n",
    "sl.traversal()\n"
   ]
  }
 ],
 "metadata": {
  "kernelspec": {
   "display_name": "Python 3",
   "language": "python",
   "name": "python3"
  },
  "language_info": {
   "codemirror_mode": {
    "name": "ipython",
    "version": 3
   },
   "file_extension": ".py",
   "mimetype": "text/x-python",
   "name": "python",
   "nbconvert_exporter": "python",
   "pygments_lexer": "ipython3",
   "version": "3.8.5"
  }
 },
 "nbformat": 4,
 "nbformat_minor": 4
}
